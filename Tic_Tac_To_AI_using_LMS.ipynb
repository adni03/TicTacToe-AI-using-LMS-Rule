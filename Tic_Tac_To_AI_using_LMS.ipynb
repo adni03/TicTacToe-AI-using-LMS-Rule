{
  "nbformat": 4,
  "nbformat_minor": 0,
  "metadata": {
    "kernelspec": {
      "display_name": "Python 3",
      "language": "python",
      "name": "python3"
    },
    "language_info": {
      "codemirror_mode": {
        "name": "ipython",
        "version": 3
      },
      "file_extension": ".py",
      "mimetype": "text/x-python",
      "name": "python",
      "nbconvert_exporter": "python",
      "pygments_lexer": "ipython3",
      "version": "3.8.1"
    },
    "colab": {
      "name": "Tic-Tac_To AI using LMS",
      "provenance": [],
      "collapsed_sections": []
    }
  },
  "cells": [
    {
      "cell_type": "markdown",
      "metadata": {
        "id": "OK_gDj22JlXp"
      },
      "source": [
        "# ***Tic Tac Toe AI using LMS rule***\n",
        "\n",
        "---\n",
        "\n",
        "\n",
        "\n"
      ]
    },
    {
      "cell_type": "code",
      "metadata": {
        "id": "kX9GctTT_ADQ"
      },
      "source": [
        "import numpy as np\n",
        "import pandas as pd\n",
        "import copy\n",
        "import math\n",
        "import matplotlib.pyplot as plt\n",
        "from tqdm import tqdm"
      ],
      "execution_count": 62,
      "outputs": []
    },
    {
      "cell_type": "code",
      "metadata": {
        "id": "VegImk56_ADQ"
      },
      "source": [
        "def initialize_board(size = 4):\n",
        "  '''\n",
        "    Initialize board: (4x4)\n",
        "    --------------------\n",
        "    | - || - || - || - |\n",
        "    --------------------\n",
        "    | - || - || - || - |\n",
        "    --------------------\n",
        "    | - || - || - || - |\n",
        "    --------------------\n",
        "    | - || - || - || - |\n",
        "    --------------------    \n",
        "  '''\n",
        "  board = np.ones((size, size), dtype = str)\n",
        "  board[:,:] = '-'\n",
        "  return board"
      ],
      "execution_count": 63,
      "outputs": []
    },
    {
      "cell_type": "code",
      "metadata": {
        "id": "BZBWfgSc_ADR"
      },
      "source": [
        "def getWinner(board):\n",
        "  '''\n",
        "      Function to return the winner based on the given board\n",
        "      +100 : for X\n",
        "      -100 : for O\n",
        "  '''\n",
        "  size = board.shape[0]\n",
        "\n",
        "  # check rows and columns\n",
        "  for i in range(size):\n",
        "    if len(set(board[i])) == 1:\n",
        "      if board[i, 0] == 'X':\n",
        "        return 100\n",
        "      elif board[i, 0] == 'O':\n",
        "        return -100\n",
        "    elif len(set(board[:, i])) == 1:\n",
        "      if board[0, i] == 'X':\n",
        "        return 100\n",
        "      elif board[i, 0] == 'O':\n",
        "        return -100\n",
        "  \n",
        "  # check diagonals\n",
        "  if len(set([board[i, i] for i in range(len(board))])) == 1:\n",
        "      if board[0, 0] == 'X':\n",
        "        return 100\n",
        "      elif board[0, 0] == 'O':\n",
        "        return -100\n",
        "\n",
        "  if len(set([board[i, len(board)-i-1] for i in range(len(board))])) == 1:\n",
        "      if board[0, len(board)-1] == 'X':\n",
        "        return 100\n",
        "      elif board[0, len(board)-1] == 'O':\n",
        "        return -100\n",
        "      \n",
        "  if np.sum(board == '-') == 0:\n",
        "    return 0\n",
        "  return -1"
      ],
      "execution_count": 64,
      "outputs": []
    },
    {
      "cell_type": "code",
      "metadata": {
        "id": "4r5RQmeM_ADR"
      },
      "source": [
        "def ExctractFeatures(board):\n",
        "  '''\n",
        "      Function to extract the (size*8 + 1) features from the board\n",
        "      Explanation of input features given in assignment report\n",
        "  '''\n",
        "  \n",
        "  # get size and create feature vector using it\n",
        "  size = board.shape[0]\n",
        "  feature_vector = np.zeros(size*8 + 1, dtype=np.float64)\n",
        "  \n",
        "  # bias\n",
        "  feature_vector[0] = 1.0\n",
        "  \n",
        "  # calculate the number of Xs, Os, and -s in rows and columns\n",
        "  num_x_row   = np.count_nonzero(board == 'X', axis = 1)\n",
        "  num_x_col   = np.count_nonzero(board == 'X', axis = 0)\n",
        "  num_o_row   = np.count_nonzero(board == 'O', axis = 1)\n",
        "  num_o_col   = np.count_nonzero(board == 'O', axis = 0)\n",
        "  num_emp_row = np.count_nonzero(board == '-', axis = 1)\n",
        "  num_emp_col = np.count_nonzero(board == '-', axis = 0)\n",
        "  \n",
        "  # diagonal counters\n",
        "  major_X = 0      # Xs in leading\n",
        "  major_O = 0      # Os in leading\n",
        "  major_emp = 0    # -s in leading\n",
        "  minor_X = 0     # Xs in trailing\n",
        "  minor_O = 0     # Os in trailing\n",
        "  minor_emp = 0   # -s in trailing\n",
        "  \n",
        "  for i in range(size):\n",
        "      if board[i,i] == 'X':\n",
        "          major_X += 1\n",
        "      if board[i,i] == 'O':\n",
        "          major_O += 1\n",
        "      if board[i,i] == '-':\n",
        "          major_emp += 1\n",
        "      if board[i,-i-1] == 'X':\n",
        "          minor_X += 1\n",
        "      if board[i,-i-1] == 'O':\n",
        "          minor_O += 1\n",
        "      if board[i,-i-1] == '-':\n",
        "          minor_emp += 1\n",
        "  \n",
        "  \n",
        "  # add values to feature vector\n",
        "  for i in range(1,size+1): # for each n of {1 to size}\n",
        "      # for each row/col -> in first 4 of 8 positions\n",
        "      for j in range(size): \n",
        "          \n",
        "          if num_x_row[j] == i and num_emp_row[j] == size-i:\n",
        "              feature_vector[(i-1)*8 + 1] += 1\n",
        "          if num_x_col[j] == i and num_emp_col[j] == size-i:\n",
        "              feature_vector[(i-1)*8 + 2] += 1\n",
        "          if num_o_row[j] == i and num_emp_row[j] == size-i:\n",
        "              feature_vector[(i-1)*8 + 3] += 1\n",
        "          if num_o_col[j] == i and num_emp_col[j] == size-i:\n",
        "              feature_vector[(i-1)*8 + 4] += 1\n",
        "            \n",
        "      # diagonals -> in next 4 positions\n",
        "      if major_X == i and major_emp == size-i :\n",
        "          feature_vector[(i-1)*8 + 5]+=1\n",
        "      if minor_X == i and minor_emp == size-i :\n",
        "          feature_vector[(i-1)*8 + 6]+=1\n",
        "      if major_O == i and major_emp == size-i :\n",
        "          feature_vector[(i-1)*8 + 7]+=1\n",
        "      if minor_O == i and minor_emp == size-i :\n",
        "          feature_vector[(i-1)*8 + 8]+=1\n",
        "    \n",
        "  return feature_vector"
      ],
      "execution_count": 65,
      "outputs": []
    },
    {
      "cell_type": "markdown",
      "metadata": {
        "id": "VHT69xcH_ADR"
      },
      "source": [
        "#### Determine next possible moves"
      ]
    },
    {
      "cell_type": "code",
      "metadata": {
        "id": "yNIchatg_ADS"
      },
      "source": [
        "def getPossibleStates(board, player):\n",
        "    '''\n",
        "        Function to determine the next possible moves from the current board state.\n",
        "        For every empty slot '-':\n",
        "          Replace with either 'X' or 'O' and append it to a list\n",
        "          return list\n",
        "    '''\n",
        "    board_states = []\n",
        "    size = board.shape[0]\n",
        "    \n",
        "    for i in range(size):\n",
        "        for j in range(size):\n",
        "            if board[i,j] == '-':\n",
        "                temp_board = copy.deepcopy(board)\n",
        "                temp_board[i,j] = player\n",
        "                board_states.append(temp_board)\n",
        "                \n",
        "    return board_states"
      ],
      "execution_count": 66,
      "outputs": []
    },
    {
      "cell_type": "markdown",
      "metadata": {
        "id": "jQPmBMSl_ADS"
      },
      "source": [
        "#### Get the value of the given board"
      ]
    },
    {
      "cell_type": "code",
      "metadata": {
        "id": "tM7-rGdb_ADS"
      },
      "source": [
        "def XFWT_single(board):\n",
        "    '''\n",
        "      X : Extract\n",
        "      F : Features\n",
        "      W : Weighted\n",
        "      T : Total\n",
        "\n",
        "      For a given board, extract the features and then \n",
        "      return weighted sum of features. \n",
        "    '''\n",
        "    # extract features and calculate value\n",
        "    feature_vector = ExctractFeatures(board)\n",
        "    board_value = np.dot(weights,feature_vector.T)\n",
        "    \n",
        "    return board_value"
      ],
      "execution_count": 67,
      "outputs": []
    },
    {
      "cell_type": "code",
      "metadata": {
        "id": "306-mJ4E_ADS"
      },
      "source": [
        "def XFWT(boards):\n",
        "    '''\n",
        "      X : Extract\n",
        "      F : Features\n",
        "      W : Weighted\n",
        "      T : Total\n",
        "    '''\n",
        "    board_values = []\n",
        "    \n",
        "    for board in boards:\n",
        "        # extract features and calculate value\n",
        "        feature_vector = ExctractFeatures(board)\n",
        "        board_value = np.dot(weights,feature_vector.T)\n",
        "        board_values.append(board_value)\n",
        "    \n",
        "    return board_values"
      ],
      "execution_count": 68,
      "outputs": []
    },
    {
      "cell_type": "markdown",
      "metadata": {
        "id": "ApE21ang_ADS"
      },
      "source": [
        "#### Printing Board"
      ]
    },
    {
      "cell_type": "code",
      "metadata": {
        "id": "SduBzhhM_ADT"
      },
      "source": [
        "def printBoard(board):\n",
        "  size = board.shape[0]\n",
        "\n",
        "  print(\"-----\"*size)\n",
        "  for i in range(size):\n",
        "    for j in range(size):\n",
        "      print(\"| {} |\".format(board[i][j]), end='')\n",
        "    print()\n",
        "    print(\"-----\"*size)"
      ],
      "execution_count": 69,
      "outputs": []
    },
    {
      "cell_type": "markdown",
      "metadata": {
        "id": "dyNv95UU_ADU"
      },
      "source": [
        "#### Training function"
      ]
    },
    {
      "cell_type": "code",
      "metadata": {
        "id": "9C4WXeyd_ADW"
      },
      "source": [
        "def train(size, alpha, num_iters, weights):\n",
        "    for epoch in tqdm(range(num_iters)):\n",
        "\n",
        "        curr_board_history = []\n",
        "        board = initialize_board(size)\n",
        "        current = 'X'\n",
        "        \n",
        "        # till not over\n",
        "        while (getWinner(board) == -1):\n",
        "            \n",
        "            # get next possible states, and calculate their values\n",
        "            next_states = np.array(getPossibleStates(board, current))\n",
        "            np.random.shuffle(next_states)\n",
        "            next_values = XFWT(next_states)\n",
        "            \n",
        "            # append board to history and set the next board state as the one with maximum value\n",
        "            curr_board_history.append(board)\n",
        "            board = next_states[np.argmax(next_values)]\n",
        "              \n",
        "            # randomly change player to get optimal training\n",
        "            rand_val = np.random.randn(1)\n",
        "            if (rand_val > 0):\n",
        "                current = 'X' if (current == 'O') else 'O'\n",
        "                \n",
        "        curr_board_history.append(board)\n",
        "        result = getWinner(board)\n",
        "        \n",
        "        # update weights\n",
        "        for idx, board_state in enumerate(curr_board_history):\n",
        "            X = ExctractFeatures(board_state)\n",
        "            if ((idx+2) < len(curr_board_history)):\n",
        "                weights += alpha * (XFWT_single(curr_board_history[idx+2]) \n",
        "                              - XFWT_single(board_state))* X\n",
        "            else:\n",
        "                weights += alpha * (result - XFWT_single(board_state)) * X\n",
        "    "
      ],
      "execution_count": 70,
      "outputs": []
    },
    {
      "cell_type": "code",
      "metadata": {
        "colab": {
          "base_uri": "https://localhost:8080/"
        },
        "id": "043HVnNm_ADW",
        "outputId": "592569ad-db99-4f62-8f4a-91ea25ca2faa"
      },
      "source": [
        "# TRAINING\n",
        "size = 4\n",
        "alpha = 0.05\n",
        "num_iters = 1000\n",
        "num_features = size*8 + 1\n",
        "\n",
        "weights = np.random.randn(num_features)*0.01 # initialize weights\n",
        "train(size, alpha, num_iters, weights) # train model"
      ],
      "execution_count": 71,
      "outputs": [
        {
          "output_type": "stream",
          "name": "stderr",
          "text": [
            "100%|██████████| 1000/1000 [00:17<00:00, 55.94it/s]\n"
          ]
        }
      ]
    },
    {
      "cell_type": "markdown",
      "metadata": {
        "id": "EMpCK-z-_ADZ"
      },
      "source": [
        "#### Test Function"
      ]
    },
    {
      "cell_type": "code",
      "metadata": {
        "id": "Kvi8ppOT_ADZ"
      },
      "source": [
        "def play(size):\n",
        "    board = initialize_board(size)\n",
        "    current = 'X'\n",
        "    \n",
        "    # till game is not over\n",
        "    while (getWinner(board) == -1):\n",
        "        if current == 'X':\n",
        "          print('Computer\\'s turn : ')\n",
        "          \n",
        "          next_states = np.array(getPossibleStates(board, current))\n",
        "          next_values = XFWT(next_states)\n",
        "          board = next_states[np.argmax(next_values)]\n",
        "          printBoard(board)\n",
        "        else:\n",
        "          print('Human\\'s move : ')\n",
        "          while (True): \n",
        "            a = int(input('Enter x coordinate : '))\n",
        "            b = int(input('Enter y coordinate : '))\n",
        "            if board[a,b] == '-':\n",
        "              break    \n",
        "            else:\n",
        "              print(\"Please select an open position. Try again.\")\n",
        "          \n",
        "          board[a,b] = 'O'\n",
        "          printBoard(board)\n",
        "    \n",
        "        current = 'X' if (current == 'O') else 'O'\n",
        "    \n",
        "    result = getWinner(board)\n",
        "    if result == 100: \n",
        "      print('Computer Wins!')\n",
        "    elif result == -100:\n",
        "      print('Human Wins!')\n",
        "    else:\n",
        "      print('Draw!')"
      ],
      "execution_count": 72,
      "outputs": []
    },
    {
      "cell_type": "code",
      "metadata": {
        "scrolled": false,
        "id": "6md6nAp4_ADZ",
        "colab": {
          "base_uri": "https://localhost:8080/"
        },
        "outputId": "1eb8d167-13dd-4259-dc3b-0a7471e42fe0"
      },
      "source": [
        "print(\"Let the game begin : \")\n",
        "play(size)"
      ],
      "execution_count": 73,
      "outputs": [
        {
          "output_type": "stream",
          "name": "stdout",
          "text": [
            "Let the game begin : \n",
            "Computer's turn : \n",
            "--------------------\n",
            "| X || - || - || - |\n",
            "--------------------\n",
            "| - || - || - || - |\n",
            "--------------------\n",
            "| - || - || - || - |\n",
            "--------------------\n",
            "| - || - || - || - |\n",
            "--------------------\n",
            "Human's move : \n",
            "Enter x coordinate : 0\n",
            "Enter y coordinate : 1\n",
            "--------------------\n",
            "| X || O || - || - |\n",
            "--------------------\n",
            "| - || - || - || - |\n",
            "--------------------\n",
            "| - || - || - || - |\n",
            "--------------------\n",
            "| - || - || - || - |\n",
            "--------------------\n",
            "Computer's turn : \n",
            "--------------------\n",
            "| X || O || X || - |\n",
            "--------------------\n",
            "| - || - || - || - |\n",
            "--------------------\n",
            "| - || - || - || - |\n",
            "--------------------\n",
            "| - || - || - || - |\n",
            "--------------------\n",
            "Human's move : \n",
            "Enter x coordinate : 1\n",
            "Enter y coordinate : 1\n",
            "--------------------\n",
            "| X || O || X || - |\n",
            "--------------------\n",
            "| - || O || - || - |\n",
            "--------------------\n",
            "| - || - || - || - |\n",
            "--------------------\n",
            "| - || - || - || - |\n",
            "--------------------\n",
            "Computer's turn : \n",
            "--------------------\n",
            "| X || O || X || - |\n",
            "--------------------\n",
            "| - || O || - || X |\n",
            "--------------------\n",
            "| - || - || - || - |\n",
            "--------------------\n",
            "| - || - || - || - |\n",
            "--------------------\n",
            "Human's move : \n",
            "Enter x coordinate : 2\n",
            "Enter y coordinate : 1\n",
            "--------------------\n",
            "| X || O || X || - |\n",
            "--------------------\n",
            "| - || O || - || X |\n",
            "--------------------\n",
            "| - || O || - || - |\n",
            "--------------------\n",
            "| - || - || - || - |\n",
            "--------------------\n",
            "Computer's turn : \n",
            "--------------------\n",
            "| X || O || X || - |\n",
            "--------------------\n",
            "| - || O || - || X |\n",
            "--------------------\n",
            "| - || O || - || - |\n",
            "--------------------\n",
            "| - || X || - || - |\n",
            "--------------------\n",
            "Human's move : \n",
            "Enter x coordinate : 2\n",
            "Enter y coordinate : 3\n",
            "--------------------\n",
            "| X || O || X || - |\n",
            "--------------------\n",
            "| - || O || - || X |\n",
            "--------------------\n",
            "| - || O || - || O |\n",
            "--------------------\n",
            "| - || X || - || - |\n",
            "--------------------\n",
            "Computer's turn : \n",
            "--------------------\n",
            "| X || O || X || - |\n",
            "--------------------\n",
            "| - || O || - || X |\n",
            "--------------------\n",
            "| X || O || - || O |\n",
            "--------------------\n",
            "| - || X || - || - |\n",
            "--------------------\n",
            "Human's move : \n",
            "Enter x coordinate : 2\n",
            "Enter y coordinate : 2\n",
            "--------------------\n",
            "| X || O || X || - |\n",
            "--------------------\n",
            "| - || O || - || X |\n",
            "--------------------\n",
            "| X || O || O || O |\n",
            "--------------------\n",
            "| - || X || - || - |\n",
            "--------------------\n",
            "Computer's turn : \n",
            "--------------------\n",
            "| X || O || X || - |\n",
            "--------------------\n",
            "| X || O || - || X |\n",
            "--------------------\n",
            "| X || O || O || O |\n",
            "--------------------\n",
            "| - || X || - || - |\n",
            "--------------------\n",
            "Human's move : \n",
            "Enter x coordinate : 1\n",
            "Enter y coordinate : 2\n",
            "--------------------\n",
            "| X || O || X || - |\n",
            "--------------------\n",
            "| X || O || O || X |\n",
            "--------------------\n",
            "| X || O || O || O |\n",
            "--------------------\n",
            "| - || X || - || - |\n",
            "--------------------\n",
            "Computer's turn : \n",
            "--------------------\n",
            "| X || O || X || - |\n",
            "--------------------\n",
            "| X || O || O || X |\n",
            "--------------------\n",
            "| X || O || O || O |\n",
            "--------------------\n",
            "| X || X || - || - |\n",
            "--------------------\n",
            "Computer Wins!\n"
          ]
        }
      ]
    }
  ]
}